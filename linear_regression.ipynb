{
  "nbformat": 4,
  "nbformat_minor": 0,
  "metadata": {
    "colab": {
      "name": "linear_regression.ipynb",
      "provenance": [],
      "collapsed_sections": [],
      "authorship_tag": "ABX9TyPGbLkgy51SjHdhF4vp+Ffj",
      "include_colab_link": true
    },
    "kernelspec": {
      "name": "python3",
      "display_name": "Python 3"
    },
    "language_info": {
      "name": "python"
    }
  },
  "cells": [
    {
      "cell_type": "markdown",
      "metadata": {
        "id": "view-in-github",
        "colab_type": "text"
      },
      "source": [
        "<a href=\"https://colab.research.google.com/github/PaletteofDesign/regression_metrics/blob/main/linear_regression.ipynb\" target=\"_parent\"><img src=\"https://colab.research.google.com/assets/colab-badge.svg\" alt=\"Open In Colab\"/></a>"
      ]
    },
    {
      "cell_type": "markdown",
      "metadata": {
        "id": "JmYQXaGph4Lz"
      },
      "source": [
        "## Assignments: Linear Regression Exercise (Practice) and Regression Metrics (Practice)"
      ]
    },
    {
      "cell_type": "code",
      "metadata": {
        "colab": {
          "base_uri": "https://localhost:8080/"
        },
        "id": "OsUELEISRvBJ",
        "outputId": "e36206ff-b17a-41f9-fe2a-5d4722ac81e9"
      },
      "source": [
        "from google.colab import drive\n",
        "drive.mount('/content/drive')"
      ],
      "execution_count": 1,
      "outputs": [
        {
          "output_type": "stream",
          "text": [
            "Drive already mounted at /content/drive; to attempt to forcibly remount, call drive.mount(\"/content/drive\", force_remount=True).\n"
          ],
          "name": "stdout"
        }
      ]
    },
    {
      "cell_type": "code",
      "metadata": {
        "id": "TmnaXNyySMUq"
      },
      "source": [
        "import pandas as pd\n",
        "from sklearn.model_selection import train_test_split\n",
        "from sklearn.linear_model import LinearRegression\n",
        "from sklearn.metrics import r2_score\n",
        "from sklearn.metrics import mean_absolute_error\n",
        "from sklearn.metrics import mean_squared_error\n",
        "import numpy as np\n",
        "import matplotlib.pyplot as plt\n",
        "import seaborn as sn"
      ],
      "execution_count": 2,
      "outputs": []
    },
    {
      "cell_type": "code",
      "metadata": {
        "colab": {
          "base_uri": "https://localhost:8080/",
          "height": 204
        },
        "id": "ofOfjLX6SZch",
        "outputId": "d798bc8c-44d0-4ed4-fbf3-683f782f494b"
      },
      "source": [
        "f = '/content/Boston_Housing_from_Sklearn.csv'\n",
        "df = pd.read_csv(f)\n",
        "df.head()"
      ],
      "execution_count": 3,
      "outputs": [
        {
          "output_type": "execute_result",
          "data": {
            "text/html": [
              "<div>\n",
              "<style scoped>\n",
              "    .dataframe tbody tr th:only-of-type {\n",
              "        vertical-align: middle;\n",
              "    }\n",
              "\n",
              "    .dataframe tbody tr th {\n",
              "        vertical-align: top;\n",
              "    }\n",
              "\n",
              "    .dataframe thead th {\n",
              "        text-align: right;\n",
              "    }\n",
              "</style>\n",
              "<table border=\"1\" class=\"dataframe\">\n",
              "  <thead>\n",
              "    <tr style=\"text-align: right;\">\n",
              "      <th></th>\n",
              "      <th>CRIM</th>\n",
              "      <th>NOX</th>\n",
              "      <th>RM</th>\n",
              "      <th>AGE</th>\n",
              "      <th>PTRATIO</th>\n",
              "      <th>LSTAT</th>\n",
              "      <th>PRICE</th>\n",
              "    </tr>\n",
              "  </thead>\n",
              "  <tbody>\n",
              "    <tr>\n",
              "      <th>0</th>\n",
              "      <td>0.00632</td>\n",
              "      <td>0.538</td>\n",
              "      <td>6.575</td>\n",
              "      <td>65.2</td>\n",
              "      <td>15.3</td>\n",
              "      <td>4.98</td>\n",
              "      <td>24.0</td>\n",
              "    </tr>\n",
              "    <tr>\n",
              "      <th>1</th>\n",
              "      <td>0.02731</td>\n",
              "      <td>0.469</td>\n",
              "      <td>6.421</td>\n",
              "      <td>78.9</td>\n",
              "      <td>17.8</td>\n",
              "      <td>9.14</td>\n",
              "      <td>21.6</td>\n",
              "    </tr>\n",
              "    <tr>\n",
              "      <th>2</th>\n",
              "      <td>0.02729</td>\n",
              "      <td>0.469</td>\n",
              "      <td>7.185</td>\n",
              "      <td>61.1</td>\n",
              "      <td>17.8</td>\n",
              "      <td>4.03</td>\n",
              "      <td>34.7</td>\n",
              "    </tr>\n",
              "    <tr>\n",
              "      <th>3</th>\n",
              "      <td>0.03237</td>\n",
              "      <td>0.458</td>\n",
              "      <td>6.998</td>\n",
              "      <td>45.8</td>\n",
              "      <td>18.7</td>\n",
              "      <td>2.94</td>\n",
              "      <td>33.4</td>\n",
              "    </tr>\n",
              "    <tr>\n",
              "      <th>4</th>\n",
              "      <td>0.06905</td>\n",
              "      <td>0.458</td>\n",
              "      <td>7.147</td>\n",
              "      <td>54.2</td>\n",
              "      <td>18.7</td>\n",
              "      <td>5.33</td>\n",
              "      <td>36.2</td>\n",
              "    </tr>\n",
              "  </tbody>\n",
              "</table>\n",
              "</div>"
            ],
            "text/plain": [
              "      CRIM    NOX     RM   AGE  PTRATIO  LSTAT  PRICE\n",
              "0  0.00632  0.538  6.575  65.2     15.3   4.98   24.0\n",
              "1  0.02731  0.469  6.421  78.9     17.8   9.14   21.6\n",
              "2  0.02729  0.469  7.185  61.1     17.8   4.03   34.7\n",
              "3  0.03237  0.458  6.998  45.8     18.7   2.94   33.4\n",
              "4  0.06905  0.458  7.147  54.2     18.7   5.33   36.2"
            ]
          },
          "metadata": {},
          "execution_count": 3
        }
      ]
    },
    {
      "cell_type": "code",
      "metadata": {
        "colab": {
          "base_uri": "https://localhost:8080/"
        },
        "id": "It2c-3q7Uwj_",
        "outputId": "1ec21968-bbd3-4702-fddb-1c81d3bf5ba9"
      },
      "source": [
        "df.isna().sum()"
      ],
      "execution_count": 4,
      "outputs": [
        {
          "output_type": "execute_result",
          "data": {
            "text/plain": [
              "CRIM       0\n",
              "NOX        0\n",
              "RM         0\n",
              "AGE        0\n",
              "PTRATIO    0\n",
              "LSTAT      0\n",
              "PRICE      0\n",
              "dtype: int64"
            ]
          },
          "metadata": {},
          "execution_count": 4
        }
      ]
    },
    {
      "cell_type": "code",
      "metadata": {
        "colab": {
          "base_uri": "https://localhost:8080/"
        },
        "id": "-ZMqvKMEU1e4",
        "outputId": "5e506cd6-4948-4474-a305-4602dfcb5841"
      },
      "source": [
        "df.duplicated().sum()"
      ],
      "execution_count": 5,
      "outputs": [
        {
          "output_type": "execute_result",
          "data": {
            "text/plain": [
              "0"
            ]
          },
          "metadata": {},
          "execution_count": 5
        }
      ]
    },
    {
      "cell_type": "code",
      "metadata": {
        "colab": {
          "base_uri": "https://localhost:8080/"
        },
        "id": "b1BltvqFVSlg",
        "outputId": "a8f83953-c10a-4689-fcbb-7690dd04d11a"
      },
      "source": [
        "df.dtypes"
      ],
      "execution_count": 6,
      "outputs": [
        {
          "output_type": "execute_result",
          "data": {
            "text/plain": [
              "CRIM       float64\n",
              "NOX        float64\n",
              "RM         float64\n",
              "AGE        float64\n",
              "PTRATIO    float64\n",
              "LSTAT      float64\n",
              "PRICE      float64\n",
              "dtype: object"
            ]
          },
          "metadata": {},
          "execution_count": 6
        }
      ]
    },
    {
      "cell_type": "code",
      "metadata": {
        "colab": {
          "base_uri": "https://localhost:8080/"
        },
        "id": "dryPfVXcVVgb",
        "outputId": "0fcc89bb-2dbd-43b6-c08f-621d782103a0"
      },
      "source": [
        "df.info()"
      ],
      "execution_count": 7,
      "outputs": [
        {
          "output_type": "stream",
          "text": [
            "<class 'pandas.core.frame.DataFrame'>\n",
            "RangeIndex: 506 entries, 0 to 505\n",
            "Data columns (total 7 columns):\n",
            " #   Column   Non-Null Count  Dtype  \n",
            "---  ------   --------------  -----  \n",
            " 0   CRIM     506 non-null    float64\n",
            " 1   NOX      506 non-null    float64\n",
            " 2   RM       506 non-null    float64\n",
            " 3   AGE      506 non-null    float64\n",
            " 4   PTRATIO  506 non-null    float64\n",
            " 5   LSTAT    506 non-null    float64\n",
            " 6   PRICE    506 non-null    float64\n",
            "dtypes: float64(7)\n",
            "memory usage: 27.8 KB\n"
          ],
          "name": "stdout"
        }
      ]
    },
    {
      "cell_type": "code",
      "metadata": {
        "colab": {
          "base_uri": "https://localhost:8080/",
          "height": 286
        },
        "id": "aSLSvbUhTr-c",
        "outputId": "7629ef3b-1bef-401d-e275-41f45d814cbc"
      },
      "source": [
        "sn.heatmap(df.corr().sort_values(by=['PRICE']), cmap=sn.diverging_palette(240,10,n=9), annot=True)"
      ],
      "execution_count": 8,
      "outputs": [
        {
          "output_type": "execute_result",
          "data": {
            "text/plain": [
              "<matplotlib.axes._subplots.AxesSubplot at 0x7f65ece6f510>"
            ]
          },
          "metadata": {},
          "execution_count": 8
        },
        {
          "output_type": "display_data",
          "data": {
            "image/png": "[encoded data removed]",
            "text/plain": [
              "<Figure size 432x288 with 2 Axes>"
            ]
          },
          "metadata": {
            "needs_background": "light"
          }
        }
      ]
    },
    {
      "cell_type": "code",
      "metadata": {
        "colab": {
          "base_uri": "https://localhost:8080/",
          "height": 419
        },
        "id": "Z1z7mfbvUS54",
        "outputId": "ee2d97c9-8856-4d4a-e08d-cf9d3bad2ccb"
      },
      "source": [
        "n_df = df.loc[:,['PTRATIO', 'LSTAT', 'RM', 'PRICE']]\n",
        "n_df"
      ],
      "execution_count": 9,
      "outputs": [
        {
          "output_type": "execute_result",
          "data": {
            "text/html": [
              "<div>\n",
              "<style scoped>\n",
              "    .dataframe tbody tr th:only-of-type {\n",
              "        vertical-align: middle;\n",
              "    }\n",
              "\n",
              "    .dataframe tbody tr th {\n",
              "        vertical-align: top;\n",
              "    }\n",
              "\n",
              "    .dataframe thead th {\n",
              "        text-align: right;\n",
              "    }\n",
              "</style>\n",
              "<table border=\"1\" class=\"dataframe\">\n",
              "  <thead>\n",
              "    <tr style=\"text-align: right;\">\n",
              "      <th></th>\n",
              "      <th>PTRATIO</th>\n",
              "      <th>LSTAT</th>\n",
              "      <th>RM</th>\n",
              "      <th>PRICE</th>\n",
              "    </tr>\n",
              "  </thead>\n",
              "  <tbody>\n",
              "    <tr>\n",
              "      <th>0</th>\n",
              "      <td>15.3</td>\n",
              "      <td>4.98</td>\n",
              "      <td>6.575</td>\n",
              "      <td>24.0</td>\n",
              "    </tr>\n",
              "    <tr>\n",
              "      <th>1</th>\n",
              "      <td>17.8</td>\n",
              "      <td>9.14</td>\n",
              "      <td>6.421</td>\n",
              "      <td>21.6</td>\n",
              "    </tr>\n",
              "    <tr>\n",
              "      <th>2</th>\n",
              "      <td>17.8</td>\n",
              "      <td>4.03</td>\n",
              "      <td>7.185</td>\n",
              "      <td>34.7</td>\n",
              "    </tr>\n",
              "    <tr>\n",
              "      <th>3</th>\n",
              "      <td>18.7</td>\n",
              "      <td>2.94</td>\n",
              "      <td>6.998</td>\n",
              "      <td>33.4</td>\n",
              "    </tr>\n",
              "    <tr>\n",
              "      <th>4</th>\n",
              "      <td>18.7</td>\n",
              "      <td>5.33</td>\n",
              "      <td>7.147</td>\n",
              "      <td>36.2</td>\n",
              "    </tr>\n",
              "    <tr>\n",
              "      <th>...</th>\n",
              "      <td>...</td>\n",
              "      <td>...</td>\n",
              "      <td>...</td>\n",
              "      <td>...</td>\n",
              "    </tr>\n",
              "    <tr>\n",
              "      <th>501</th>\n",
              "      <td>21.0</td>\n",
              "      <td>9.67</td>\n",
              "      <td>6.593</td>\n",
              "      <td>22.4</td>\n",
              "    </tr>\n",
              "    <tr>\n",
              "      <th>502</th>\n",
              "      <td>21.0</td>\n",
              "      <td>9.08</td>\n",
              "      <td>6.120</td>\n",
              "      <td>20.6</td>\n",
              "    </tr>\n",
              "    <tr>\n",
              "      <th>503</th>\n",
              "      <td>21.0</td>\n",
              "      <td>5.64</td>\n",
              "      <td>6.976</td>\n",
              "      <td>23.9</td>\n",
              "    </tr>\n",
              "    <tr>\n",
              "      <th>504</th>\n",
              "      <td>21.0</td>\n",
              "      <td>6.48</td>\n",
              "      <td>6.794</td>\n",
              "      <td>22.0</td>\n",
              "    </tr>\n",
              "    <tr>\n",
              "      <th>505</th>\n",
              "      <td>21.0</td>\n",
              "      <td>7.88</td>\n",
              "      <td>6.030</td>\n",
              "      <td>11.9</td>\n",
              "    </tr>\n",
              "  </tbody>\n",
              "</table>\n",
              "<p>506 rows × 4 columns</p>\n",
              "</div>"
            ],
            "text/plain": [
              "     PTRATIO  LSTAT     RM  PRICE\n",
              "0       15.3   4.98  6.575   24.0\n",
              "1       17.8   9.14  6.421   21.6\n",
              "2       17.8   4.03  7.185   34.7\n",
              "3       18.7   2.94  6.998   33.4\n",
              "4       18.7   5.33  7.147   36.2\n",
              "..       ...    ...    ...    ...\n",
              "501     21.0   9.67  6.593   22.4\n",
              "502     21.0   9.08  6.120   20.6\n",
              "503     21.0   5.64  6.976   23.9\n",
              "504     21.0   6.48  6.794   22.0\n",
              "505     21.0   7.88  6.030   11.9\n",
              "\n",
              "[506 rows x 4 columns]"
            ]
          },
          "metadata": {},
          "execution_count": 9
        }
      ]
    },
    {
      "cell_type": "code",
      "metadata": {
        "colab": {
          "base_uri": "https://localhost:8080/"
        },
        "id": "RscwO_xbV4d8",
        "outputId": "8b5b7b52-8330-469c-e766-400b5edf3a29"
      },
      "source": [
        "df.shape"
      ],
      "execution_count": 10,
      "outputs": [
        {
          "output_type": "execute_result",
          "data": {
            "text/plain": [
              "(506, 7)"
            ]
          },
          "metadata": {},
          "execution_count": 10
        }
      ]
    },
    {
      "cell_type": "code",
      "metadata": {
        "colab": {
          "base_uri": "https://localhost:8080/"
        },
        "id": "cO56NGpMWvG3",
        "outputId": "d6b32fdf-7913-4125-eb2c-6c4016220e47"
      },
      "source": [
        "n_df.shape"
      ],
      "execution_count": 11,
      "outputs": [
        {
          "output_type": "execute_result",
          "data": {
            "text/plain": [
              "(506, 4)"
            ]
          },
          "metadata": {},
          "execution_count": 11
        }
      ]
    },
    {
      "cell_type": "code",
      "metadata": {
        "colab": {
          "base_uri": "https://localhost:8080/"
        },
        "id": "LyuQM1-OW1Y1",
        "outputId": "ac6e8e1f-5169-405a-b87a-ba754b75786e"
      },
      "source": [
        "n_df.isna().sum()"
      ],
      "execution_count": 12,
      "outputs": [
        {
          "output_type": "execute_result",
          "data": {
            "text/plain": [
              "PTRATIO    0\n",
              "LSTAT      0\n",
              "RM         0\n",
              "PRICE      0\n",
              "dtype: int64"
            ]
          },
          "metadata": {},
          "execution_count": 12
        }
      ]
    },
    {
      "cell_type": "code",
      "metadata": {
        "id": "85oLlWZJW76v"
      },
      "source": [
        "y = n_df.loc[:, 'PRICE']"
      ],
      "execution_count": 13,
      "outputs": []
    },
    {
      "cell_type": "code",
      "metadata": {
        "id": "jeRVP2xvYl9r"
      },
      "source": [
        "X = n_df.drop(columns='PRICE')"
      ],
      "execution_count": 14,
      "outputs": []
    },
    {
      "cell_type": "code",
      "metadata": {
        "colab": {
          "base_uri": "https://localhost:8080/",
          "height": 419
        },
        "id": "NqDxnnyaYuaO",
        "outputId": "6d562334-cc8e-443b-a0ba-aa361a486741"
      },
      "source": [
        "X"
      ],
      "execution_count": 15,
      "outputs": [
        {
          "output_type": "execute_result",
          "data": {
            "text/html": [
              "<div>\n",
              "<style scoped>\n",
              "    .dataframe tbody tr th:only-of-type {\n",
              "        vertical-align: middle;\n",
              "    }\n",
              "\n",
              "    .dataframe tbody tr th {\n",
              "        vertical-align: top;\n",
              "    }\n",
              "\n",
              "    .dataframe thead th {\n",
              "        text-align: right;\n",
              "    }\n",
              "</style>\n",
              "<table border=\"1\" class=\"dataframe\">\n",
              "  <thead>\n",
              "    <tr style=\"text-align: right;\">\n",
              "      <th></th>\n",
              "      <th>PTRATIO</th>\n",
              "      <th>LSTAT</th>\n",
              "      <th>RM</th>\n",
              "    </tr>\n",
              "  </thead>\n",
              "  <tbody>\n",
              "    <tr>\n",
              "      <th>0</th>\n",
              "      <td>15.3</td>\n",
              "      <td>4.98</td>\n",
              "      <td>6.575</td>\n",
              "    </tr>\n",
              "    <tr>\n",
              "      <th>1</th>\n",
              "      <td>17.8</td>\n",
              "      <td>9.14</td>\n",
              "      <td>6.421</td>\n",
              "    </tr>\n",
              "    <tr>\n",
              "      <th>2</th>\n",
              "      <td>17.8</td>\n",
              "      <td>4.03</td>\n",
              "      <td>7.185</td>\n",
              "    </tr>\n",
              "    <tr>\n",
              "      <th>3</th>\n",
              "      <td>18.7</td>\n",
              "      <td>2.94</td>\n",
              "      <td>6.998</td>\n",
              "    </tr>\n",
              "    <tr>\n",
              "      <th>4</th>\n",
              "      <td>18.7</td>\n",
              "      <td>5.33</td>\n",
              "      <td>7.147</td>\n",
              "    </tr>\n",
              "    <tr>\n",
              "      <th>...</th>\n",
              "      <td>...</td>\n",
              "      <td>...</td>\n",
              "      <td>...</td>\n",
              "    </tr>\n",
              "    <tr>\n",
              "      <th>501</th>\n",
              "      <td>21.0</td>\n",
              "      <td>9.67</td>\n",
              "      <td>6.593</td>\n",
              "    </tr>\n",
              "    <tr>\n",
              "      <th>502</th>\n",
              "      <td>21.0</td>\n",
              "      <td>9.08</td>\n",
              "      <td>6.120</td>\n",
              "    </tr>\n",
              "    <tr>\n",
              "      <th>503</th>\n",
              "      <td>21.0</td>\n",
              "      <td>5.64</td>\n",
              "      <td>6.976</td>\n",
              "    </tr>\n",
              "    <tr>\n",
              "      <th>504</th>\n",
              "      <td>21.0</td>\n",
              "      <td>6.48</td>\n",
              "      <td>6.794</td>\n",
              "    </tr>\n",
              "    <tr>\n",
              "      <th>505</th>\n",
              "      <td>21.0</td>\n",
              "      <td>7.88</td>\n",
              "      <td>6.030</td>\n",
              "    </tr>\n",
              "  </tbody>\n",
              "</table>\n",
              "<p>506 rows × 3 columns</p>\n",
              "</div>"
            ],
            "text/plain": [
              "     PTRATIO  LSTAT     RM\n",
              "0       15.3   4.98  6.575\n",
              "1       17.8   9.14  6.421\n",
              "2       17.8   4.03  7.185\n",
              "3       18.7   2.94  6.998\n",
              "4       18.7   5.33  7.147\n",
              "..       ...    ...    ...\n",
              "501     21.0   9.67  6.593\n",
              "502     21.0   9.08  6.120\n",
              "503     21.0   5.64  6.976\n",
              "504     21.0   6.48  6.794\n",
              "505     21.0   7.88  6.030\n",
              "\n",
              "[506 rows x 3 columns]"
            ]
          },
          "metadata": {},
          "execution_count": 15
        }
      ]
    },
    {
      "cell_type": "code",
      "metadata": {
        "id": "tPYBABQcY29k"
      },
      "source": [
        "X_train, X_test, y_train, y_test = train_test_split(X,y, random_state=42)"
      ],
      "execution_count": 16,
      "outputs": []
    },
    {
      "cell_type": "code",
      "metadata": {
        "id": "TM_8rRYEZrHs"
      },
      "source": [
        "reg = LinearRegression()"
      ],
      "execution_count": 17,
      "outputs": []
    },
    {
      "cell_type": "code",
      "metadata": {
        "colab": {
          "base_uri": "https://localhost:8080/"
        },
        "id": "I4RiQOHJZ5SL",
        "outputId": "c39cbf96-9f58-4512-f1e1-b9d867bb27bb"
      },
      "source": [
        "reg.fit(X_train ,y_train)"
      ],
      "execution_count": 18,
      "outputs": [
        {
          "output_type": "execute_result",
          "data": {
            "text/plain": [
              "LinearRegression(copy_X=True, fit_intercept=True, n_jobs=None, normalize=False)"
            ]
          },
          "metadata": {},
          "execution_count": 18
        }
      ]
    },
    {
      "cell_type": "code",
      "metadata": {
        "id": "VQ1V0VvEZ9LN"
      },
      "source": [
        "train_preds = reg.predict(X_train)\n",
        "test_preds = reg.predict(X_test)"
      ],
      "execution_count": 19,
      "outputs": []
    },
    {
      "cell_type": "code",
      "metadata": {
        "colab": {
          "base_uri": "https://localhost:8080/"
        },
        "id": "utTC-smtaGnO",
        "outputId": "510cb597-93cd-43c5-8648-30329d6b2009"
      },
      "source": [
        "r2_score(y_train, train_preds)"
      ],
      "execution_count": 20,
      "outputs": [
        {
          "output_type": "execute_result",
          "data": {
            "text/plain": [
              "0.6877966145058925"
            ]
          },
          "metadata": {},
          "execution_count": 20
        }
      ]
    },
    {
      "cell_type": "code",
      "metadata": {
        "colab": {
          "base_uri": "https://localhost:8080/"
        },
        "id": "zSK6x4cqaBju",
        "outputId": "9b6d0890-0daa-46fe-e262-386bc9cea38a"
      },
      "source": [
        "r2_score(y_test, test_preds)"
      ],
      "execution_count": 21,
      "outputs": [
        {
          "output_type": "execute_result",
          "data": {
            "text/plain": [
              "0.6331590458194676"
            ]
          },
          "metadata": {},
          "execution_count": 21
        }
      ]
    },
    {
      "cell_type": "markdown",
      "metadata": {
        "id": "EZGPw7FvV8pA"
      },
      "source": [
        "There is a slight difference between training and test data using r^2."
      ]
    },
    {
      "cell_type": "code",
      "metadata": {
        "colab": {
          "base_uri": "https://localhost:8080/"
        },
        "id": "6XdlPxYzaTHt",
        "outputId": "9a479d32-8e61-4dc5-d81a-c46651a29e0a"
      },
      "source": [
        "train_preds = reg.predict(X_train)\n",
        "train_preds"
      ],
      "execution_count": 22,
      "outputs": [
        {
          "output_type": "execute_result",
          "data": {
            "text/plain": [
              "array([31.75695274, 23.68323838, 38.03546548, 10.20996468, 27.13494954,\n",
              "       19.05521452, 19.53447536, 11.32416055, 22.01487   , 22.31691076,\n",
              "       32.95851993, 31.26713058, 16.44983626, 17.71431907, 30.37219287,\n",
              "       23.52406034, 11.55053119,  8.8057686 , 23.72695097, 23.51515711,\n",
              "       17.56209822, 13.83480042, 39.7083951 , 19.62722839, 18.61558332,\n",
              "       27.29607953, 22.87666454, 21.49748102, 22.16311076, 16.07922784,\n",
              "       24.35521799, 31.33073301, 12.09416407, 22.12037873, 18.5244606 ,\n",
              "       19.75163162, 25.30013844, 24.97434329, 22.5475642 , 41.1720463 ,\n",
              "       17.37439575, 16.78747078, 20.94502376, 19.22092746, 21.50921521,\n",
              "       22.02434742, 33.53512008, 20.71523236, 19.48549625, 24.1751616 ,\n",
              "       29.57987706, 35.23062783, 26.42996507,  9.40770242,  1.51710564,\n",
              "       10.39554859, 17.75376582, 30.74148802, 28.27764796, 20.41154643,\n",
              "        1.40943113, 28.08078419, 22.80536344, 19.92593999, 26.76372796,\n",
              "       16.9958801 , 16.92960972, 11.33878148, 31.82463811, 27.54249491,\n",
              "       18.42893762, 20.20669051, 16.13534511, 26.0638638 , 19.92774095,\n",
              "       27.80566725, 30.40077087, 24.44347204, 24.45754753, 26.47387671,\n",
              "       41.11367612, 31.73432613, 33.07670565, 25.6319426 , 25.63380156,\n",
              "       18.93992657, 36.66077846, 19.83709984, 31.81485097, 27.81965803,\n",
              "       19.78615366, 21.14944416, 12.3684921 , 35.15983873, 36.19268793,\n",
              "       33.12165093,  4.08370577, 18.42380973, 20.44388014, 37.27469779,\n",
              "       16.1045992 , 20.1735734 , 23.10205895, 26.9163264 , 15.00939997,\n",
              "       21.70151401, 26.5456916 , 30.88149758, 29.39081077, 24.09449581,\n",
              "       37.18710366, 27.68214694, 33.74856633, 28.27517093, 24.07575493,\n",
              "       27.91758386, 14.18189975, 19.01509353, 24.32467953, 21.16696592,\n",
              "        1.35878642, 19.21838823, 26.77101993, 21.78630135, 18.20952048,\n",
              "       24.04715243, 13.72950146, 33.83009087, 28.90869767, 35.73336543,\n",
              "       18.4134102 , 20.23144336, 17.64467954,  9.37777424, 15.38009329,\n",
              "       27.23626559, 12.44788623,  5.46019609, 23.05084659, 13.77745698,\n",
              "       28.6783678 , 31.56241944, 36.30587864, 30.58964863, 17.30555221,\n",
              "       28.42883711, 37.58249607, 23.11507257, 18.6061631 , 27.78998214,\n",
              "       19.15100002, 19.94281273,  8.83043134, 22.27344001, 19.24197489,\n",
              "       26.27501905, 27.91613296, 17.09855237, 25.914156  , 13.71972838,\n",
              "       14.92007666, 31.25752761, 21.1762107 , 21.5913922 , 21.89217143,\n",
              "       20.91199373, 20.36275515, 24.57680458, 30.11955572,  6.86817998,\n",
              "       19.19210385, 30.79306557, 16.26776213, 28.21761542, 25.1924265 ,\n",
              "       19.86923958, 16.82001883, 37.82158597, 25.83717204, 24.22849961,\n",
              "       16.01497286, 33.77687068, 34.99095324, 39.11333065, 19.52581205,\n",
              "       18.94423068, 23.52875378, 37.80167366,  4.50591013, 21.42805681,\n",
              "       14.65691052, 28.56091909, 12.1457319 , 18.79208284, -4.01432011,\n",
              "       17.73693188, 16.53092995,  9.02219886, 23.73008337, 16.02228312,\n",
              "       29.17014386, 39.99089511, 27.65389431, 25.25180582, 35.20086823,\n",
              "       12.29025068, 29.83653656, 21.5968647 , 21.89077159, 21.21514543,\n",
              "       22.70394895, 13.23407828, 17.09246586, 28.47394222, 17.67612684,\n",
              "       27.98862764, 24.96235097, 27.73277617, 16.55615904, 11.03104675,\n",
              "       30.15349001, 29.82092605, 13.24556708, 16.30930183, 23.5305838 ,\n",
              "       37.63648764, 26.93732774, 15.70626834, 30.65043588, 35.80907757,\n",
              "       23.89482226, 24.37727541, 37.31054947, 19.50235619, 24.69058293,\n",
              "       17.07519146, 24.12554168, 35.48943039, 28.1197539 , 23.71644103,\n",
              "       18.84774238, 18.15680567,  9.92904257, 39.79864889, 20.45313773,\n",
              "       32.56251455, 19.79373167, 16.46652541, 19.07821099, 22.51531219,\n",
              "       33.3218151 , 27.15466509, 39.192481  , 14.78227148, 13.03490776,\n",
              "       25.67803542, 17.85691582, 19.22972951, 27.97582431, 12.08325652,\n",
              "       25.41380196, 17.02460749, 28.94670085, 32.24364004, 20.78885196,\n",
              "       18.828276  , 32.35678747, 15.37194802, 17.61119373, 18.0548108 ,\n",
              "       21.8449314 , 32.58667329, 11.88495786, 26.32375318, 20.33980054,\n",
              "       26.84839961, 16.80824991, 18.1051018 , 30.17704112, 20.35761834,\n",
              "       27.93494428, 19.58023235, 20.29026609, 32.3643388 , 26.27719786,\n",
              "       20.03083233, 28.15126611, 37.8083108 , 25.63706903, 27.67057214,\n",
              "       16.79531881, 32.84781425, 22.59373377, 33.16435879, 16.0878984 ,\n",
              "       24.98596419, 11.93532833, 25.73563745, 18.2591905 , 13.9515208 ,\n",
              "       17.62695711, 17.68311281, 28.41080017, 21.51135285, 14.91845409,\n",
              "       18.37997815, 32.94726113, 19.49974059, 13.88537371, 26.20666269,\n",
              "       21.24717392, 20.44984379, 29.27044423, 22.12538539, 34.20388978,\n",
              "       23.30856355, 21.25157219, 20.42755508, 30.65411679,  3.58504844,\n",
              "       32.60618978, 38.76236872, 23.38254544, 20.414576  , 14.89267545,\n",
              "       31.54741152, 18.81157586, 21.65974944, 28.93071436, 17.06577931,\n",
              "       17.52431435, 21.89526019, 20.25501871, 23.78884775, 15.21779703,\n",
              "       33.7964589 , 21.59068022, 23.44848209, 31.12054403, 27.03199483,\n",
              "       24.11705496,  8.14888894, 30.70865465, 23.4652034 , 30.44852257,\n",
              "       18.08412412, 25.20334442, 18.81704137, 29.69553054, 31.74691219,\n",
              "       18.3295808 , 32.07412269,  5.59515178, 26.20028085, 11.26145065,\n",
              "       28.36184537, 43.09351909, 28.92241053, 17.28796629, 20.98351813,\n",
              "       21.12428931, 20.14732379, 32.03417335, 21.22268436, 24.11066955,\n",
              "       18.97667282, 25.21315877,  8.34487679, 16.77413153, 19.64242473,\n",
              "       21.85971593, 12.0103692 , 31.27586246, 21.90801758, 14.74084771,\n",
              "       20.1037292 , 29.27775278, 16.4431718 , 22.13479006])"
            ]
          },
          "metadata": {},
          "execution_count": 22
        }
      ]
    },
    {
      "cell_type": "code",
      "metadata": {
        "colab": {
          "base_uri": "https://localhost:8080/"
        },
        "id": "3gDGc-H7buXf",
        "outputId": "5c1623ed-0e27-4ad4-adaa-c46880f96a10"
      },
      "source": [
        "test_preds = reg.predict(X_test)\n",
        "test_preds"
      ],
      "execution_count": 23,
      "outputs": [
        {
          "output_type": "execute_result",
          "data": {
            "text/plain": [
              "array([26.7983917 , 30.78363411, 16.47209036, 24.94387986, 18.35189369,\n",
              "       22.6380413 , 17.4480349 , 12.89487216, 20.58961517, 19.63162548,\n",
              "       19.57750716, 21.33657142, -1.61818686, 22.19809825, 19.27371594,\n",
              "       24.8809148 , 17.11777062,  3.80981515, 39.18671274, 17.31615767,\n",
              "       25.67069344, 27.33400232, 11.77314572, 23.50602466, 17.87647631,\n",
              "       13.6902844 , 22.37527873, 19.57163128, 18.11364568, 18.65281378,\n",
              "       19.47717303, 25.34674234, 25.43461544, 18.00978488, 14.58916917,\n",
              "       21.11912986, 32.36030725, 20.65823934, 20.13034166, 24.62711312,\n",
              "       12.62343386, 28.20311136, 39.74137897, 18.54295894, 25.90871993,\n",
              "       15.65601275, 14.19095438, 25.92610135, 18.301774  , 31.03630298,\n",
              "       23.59096861, 33.48311566, 16.08159727, 25.65433441, 38.34165942,\n",
              "       22.31965771, 18.3754009 , 30.02082321, 24.70337222, 15.29670887,\n",
              "       25.52623277, 32.12600129, 29.83727281, 16.89954136, 28.18740413,\n",
              "       11.7823026 , 19.27023841, 25.54828459, 28.94520226, 15.80552233,\n",
              "       19.69958315, 26.06541541, 12.43909591, 21.89909516, 22.96425363,\n",
              "        6.56381473, 20.00810458, 38.33534673, 17.3174192 , 10.31861899,\n",
              "       22.43695127,  9.78721974, 24.26856387,  7.43179939, 21.81813281,\n",
              "       28.16984704, 20.77633682, 25.92317984, 26.09629856, 19.80547729,\n",
              "       24.28403113,  8.15262582, 20.55112319, 20.32509887, 11.19649443,\n",
              "       21.43472361, 22.47268156,  0.42238808, 18.68086641, 17.77077447,\n",
              "       21.03031284, 24.43608548,  9.16014451, 20.58005629, 25.40729413,\n",
              "       13.9194582 , 18.43255678, 26.60526846, 22.50303373, 27.94527846,\n",
              "       12.31314881, 19.54068195, 24.54062436, 24.23220535, 31.2410911 ,\n",
              "       19.14984786, 33.07446193, 14.77540428, 19.45449573, 28.66959849,\n",
              "       18.7103886 , 26.82365852, 14.77714931, 23.14975944, 26.38576642,\n",
              "       23.21687249, 27.72265644])"
            ]
          },
          "metadata": {},
          "execution_count": 23
        }
      ]
    },
    {
      "cell_type": "code",
      "metadata": {
        "colab": {
          "base_uri": "https://localhost:8080/"
        },
        "id": "Pa10oC-7dYhk",
        "outputId": "9f00d4ab-82b4-41fd-a1b0-6e229ddd5ea7"
      },
      "source": [
        "np.sqrt(mean_squared_error(y_train, train_preds))"
      ],
      "execution_count": 24,
      "outputs": [
        {
          "output_type": "execute_result",
          "data": {
            "text/plain": [
              "5.261818774717493"
            ]
          },
          "metadata": {},
          "execution_count": 24
        }
      ]
    },
    {
      "cell_type": "code",
      "metadata": {
        "colab": {
          "base_uri": "https://localhost:8080/"
        },
        "id": "GGI9PsTHfVjq",
        "outputId": "f5590250-c2d7-46ad-aa0a-09046e6c9dc1"
      },
      "source": [
        "np.sqrt(mean_squared_error(y_test, test_preds))"
      ],
      "execution_count": 25,
      "outputs": [
        {
          "output_type": "execute_result",
          "data": {
            "text/plain": [
              "5.0684143671049595"
            ]
          },
          "metadata": {},
          "execution_count": 25
        }
      ]
    },
    {
      "cell_type": "code",
      "metadata": {
        "colab": {
          "base_uri": "https://localhost:8080/"
        },
        "id": "VR5nzC3xfkT3",
        "outputId": "5e8085b8-596d-4fb9-adef-949651918671"
      },
      "source": [
        "mean_squared_error(y_train, train_preds)"
      ],
      "execution_count": 26,
      "outputs": [
        {
          "output_type": "execute_result",
          "data": {
            "text/plain": [
              "27.686736817969496"
            ]
          },
          "metadata": {},
          "execution_count": 26
        }
      ]
    },
    {
      "cell_type": "code",
      "metadata": {
        "colab": {
          "base_uri": "https://localhost:8080/"
        },
        "id": "A3gaoOSVfq2s",
        "outputId": "4cd92a3b-2860-4ef6-81fe-f6a63c70b7e9"
      },
      "source": [
        "mean_squared_error(y_test, test_preds)"
      ],
      "execution_count": 27,
      "outputs": [
        {
          "output_type": "execute_result",
          "data": {
            "text/plain": [
              "25.68882419667597"
            ]
          },
          "metadata": {},
          "execution_count": 27
        }
      ]
    },
    {
      "cell_type": "code",
      "metadata": {
        "colab": {
          "base_uri": "https://localhost:8080/"
        },
        "id": "s5ar93Tib7EW",
        "outputId": "38d4244e-22f6-4290-bacc-a71f3d4d612a"
      },
      "source": [
        "mean_absolute_error(y_train, train_preds)"
      ],
      "execution_count": 28,
      "outputs": [
        {
          "output_type": "execute_result",
          "data": {
            "text/plain": [
              "3.714054057158006"
            ]
          },
          "metadata": {},
          "execution_count": 28
        }
      ]
    },
    {
      "cell_type": "code",
      "metadata": {
        "colab": {
          "base_uri": "https://localhost:8080/"
        },
        "id": "XzJ9dlw5cGO_",
        "outputId": "89d77237-3e87-4ebd-fd05-6bf8c2f059fa"
      },
      "source": [
        "mean_absolute_error(y_test, test_preds)"
      ],
      "execution_count": 29,
      "outputs": [
        {
          "output_type": "execute_result",
          "data": {
            "text/plain": [
              "3.3918448293813985"
            ]
          },
          "metadata": {},
          "execution_count": 29
        }
      ]
    }
  ]
}