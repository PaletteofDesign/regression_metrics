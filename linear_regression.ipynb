{
  "nbformat": 4,
  "nbformat_minor": 0,
  "metadata": {
    "colab": {
      "name": "linear_regression.ipynb",
      "provenance": [],
      "collapsed_sections": [],
      "authorship_tag": "ABX9TyNUIT1emRhRL9oXUmaCRZKG",
      "include_colab_link": true
    },
    "kernelspec": {
      "name": "python3",
      "display_name": "Python 3"
    },
    "language_info": {
      "name": "python"
    }
  },
  "cells": [
    {
      "cell_type": "markdown",
      "metadata": {
        "id": "view-in-github",
        "colab_type": "text"
      },
      "source": [
        "<a href=\"https://colab.research.google.com/github/PaletteofDesign/regression_metrics/blob/main/linear_regression.ipynb\" target=\"_parent\"><img src=\"https://colab.research.google.com/assets/colab-badge.svg\" alt=\"Open In Colab\"/></a>"
      ]
    },
    {
      "cell_type": "markdown",
      "metadata": {
        "id": "JmYQXaGph4Lz"
      },
      "source": [
        "## Assignments: Linear Regression Exercise (Practice) and Regression Metrics (Practice)"
      ]
    },
    {
      "cell_type": "code",
      "metadata": {
        "colab": {
          "base_uri": "https://localhost:8080/"
        },
        "id": "OsUELEISRvBJ",
        "outputId": "31812919-04dd-4f4e-cca5-9618c67bb22a"
      },
      "source": [
        "from google.colab import drive\n",
        "drive.mount('/content/drive')"
      ],
      "execution_count": 1,
      "outputs": [
        {
          "output_type": "stream",
          "text": [
            "Mounted at /content/drive\n"
          ],
          "name": "stdout"
        }
      ]
    },
    {
      "cell_type": "code",
      "metadata": {
        "id": "TmnaXNyySMUq"
      },
      "source": [
        "import pandas as pd\n",
        "from sklearn.model_selection import train_test_split\n",
        "from sklearn.linear_model import LinearRegression\n",
        "from sklearn.metrics import r2_score\n",
        "from sklearn.metrics import mean_absolute_error\n",
        "from sklearn.metrics import mean_squared_error\n",
        "import numpy as np\n",
        "import matplotlib.pyplot as plt\n",
        "import seaborn as sn"
      ],
      "execution_count": 3,
      "outputs": []
    },
    {
      "cell_type": "code",
      "metadata": {
        "colab": {
          "base_uri": "https://localhost:8080/",
          "height": 204
        },
        "id": "ofOfjLX6SZch",
        "outputId": "9d54b7dd-f3d3-419b-8c3d-75f029992efc"
      },
      "source": [
        "f = '/content/Boston_Housing_from_Sklearn.csv'\n",
        "df = pd.read_csv(f)\n",
        "df.head()"
      ],
      "execution_count": 5,
      "outputs": [
        {
          "output_type": "execute_result",
          "data": {
            "text/html": [
              "<div>\n",
              "<style scoped>\n",
              "    .dataframe tbody tr th:only-of-type {\n",
              "        vertical-align: middle;\n",
              "    }\n",
              "\n",
              "    .dataframe tbody tr th {\n",
              "        vertical-align: top;\n",
              "    }\n",
              "\n",
              "    .dataframe thead th {\n",
              "        text-align: right;\n",
              "    }\n",
              "</style>\n",
              "<table border=\"1\" class=\"dataframe\">\n",
              "  <thead>\n",
              "    <tr style=\"text-align: right;\">\n",
              "      <th></th>\n",
              "      <th>CRIM</th>\n",
              "      <th>NOX</th>\n",
              "      <th>RM</th>\n",
              "      <th>AGE</th>\n",
              "      <th>PTRATIO</th>\n",
              "      <th>LSTAT</th>\n",
              "      <th>PRICE</th>\n",
              "    </tr>\n",
              "  </thead>\n",
              "  <tbody>\n",
              "    <tr>\n",
              "      <th>0</th>\n",
              "      <td>0.00632</td>\n",
              "      <td>0.538</td>\n",
              "      <td>6.575</td>\n",
              "      <td>65.2</td>\n",
              "      <td>15.3</td>\n",
              "      <td>4.98</td>\n",
              "      <td>24.0</td>\n",
              "    </tr>\n",
              "    <tr>\n",
              "      <th>1</th>\n",
              "      <td>0.02731</td>\n",
              "      <td>0.469</td>\n",
              "      <td>6.421</td>\n",
              "      <td>78.9</td>\n",
              "      <td>17.8</td>\n",
              "      <td>9.14</td>\n",
              "      <td>21.6</td>\n",
              "    </tr>\n",
              "    <tr>\n",
              "      <th>2</th>\n",
              "      <td>0.02729</td>\n",
              "      <td>0.469</td>\n",
              "      <td>7.185</td>\n",
              "      <td>61.1</td>\n",
              "      <td>17.8</td>\n",
              "      <td>4.03</td>\n",
              "      <td>34.7</td>\n",
              "    </tr>\n",
              "    <tr>\n",
              "      <th>3</th>\n",
              "      <td>0.03237</td>\n",
              "      <td>0.458</td>\n",
              "      <td>6.998</td>\n",
              "      <td>45.8</td>\n",
              "      <td>18.7</td>\n",
              "      <td>2.94</td>\n",
              "      <td>33.4</td>\n",
              "    </tr>\n",
              "    <tr>\n",
              "      <th>4</th>\n",
              "      <td>0.06905</td>\n",
              "      <td>0.458</td>\n",
              "      <td>7.147</td>\n",
              "      <td>54.2</td>\n",
              "      <td>18.7</td>\n",
              "      <td>5.33</td>\n",
              "      <td>36.2</td>\n",
              "    </tr>\n",
              "  </tbody>\n",
              "</table>\n",
              "</div>"
            ],
            "text/plain": [
              "      CRIM    NOX     RM   AGE  PTRATIO  LSTAT  PRICE\n",
              "0  0.00632  0.538  6.575  65.2     15.3   4.98   24.0\n",
              "1  0.02731  0.469  6.421  78.9     17.8   9.14   21.6\n",
              "2  0.02729  0.469  7.185  61.1     17.8   4.03   34.7\n",
              "3  0.03237  0.458  6.998  45.8     18.7   2.94   33.4\n",
              "4  0.06905  0.458  7.147  54.2     18.7   5.33   36.2"
            ]
          },
          "metadata": {},
          "execution_count": 5
        }
      ]
    },
    {
      "cell_type": "code",
      "metadata": {
        "colab": {
          "base_uri": "https://localhost:8080/"
        },
        "id": "It2c-3q7Uwj_",
        "outputId": "704a702a-a0a8-4e21-e44e-06a3bb6ba907"
      },
      "source": [
        "df.isna().sum()"
      ],
      "execution_count": 11,
      "outputs": [
        {
          "output_type": "execute_result",
          "data": {
            "text/plain": [
              "CRIM       0\n",
              "NOX        0\n",
              "RM         0\n",
              "AGE        0\n",
              "PTRATIO    0\n",
              "LSTAT      0\n",
              "PRICE      0\n",
              "dtype: int64"
            ]
          },
          "metadata": {},
          "execution_count": 11
        }
      ]
    },
    {
      "cell_type": "code",
      "metadata": {
        "colab": {
          "base_uri": "https://localhost:8080/"
        },
        "id": "-ZMqvKMEU1e4",
        "outputId": "ef09043e-73fe-4aca-e0df-1601df3701c4"
      },
      "source": [
        "df.duplicated().sum()"
      ],
      "execution_count": 14,
      "outputs": [
        {
          "output_type": "execute_result",
          "data": {
            "text/plain": [
              "0"
            ]
          },
          "metadata": {},
          "execution_count": 14
        }
      ]
    },
    {
      "cell_type": "code",
      "metadata": {
        "colab": {
          "base_uri": "https://localhost:8080/"
        },
        "id": "b1BltvqFVSlg",
        "outputId": "5c19c9e6-6721-419c-c99e-0ee852953b8e"
      },
      "source": [
        "df.dtypes"
      ],
      "execution_count": 15,
      "outputs": [
        {
          "output_type": "execute_result",
          "data": {
            "text/plain": [
              "CRIM       float64\n",
              "NOX        float64\n",
              "RM         float64\n",
              "AGE        float64\n",
              "PTRATIO    float64\n",
              "LSTAT      float64\n",
              "PRICE      float64\n",
              "dtype: object"
            ]
          },
          "metadata": {},
          "execution_count": 15
        }
      ]
    },
    {
      "cell_type": "code",
      "metadata": {
        "colab": {
          "base_uri": "https://localhost:8080/"
        },
        "id": "dryPfVXcVVgb",
        "outputId": "0ca7ca04-6614-49fd-b73d-9462e97b7ef6"
      },
      "source": [
        "df.info()"
      ],
      "execution_count": 16,
      "outputs": [
        {
          "output_type": "stream",
          "text": [
            "<class 'pandas.core.frame.DataFrame'>\n",
            "RangeIndex: 506 entries, 0 to 505\n",
            "Data columns (total 7 columns):\n",
            " #   Column   Non-Null Count  Dtype  \n",
            "---  ------   --------------  -----  \n",
            " 0   CRIM     506 non-null    float64\n",
            " 1   NOX      506 non-null    float64\n",
            " 2   RM       506 non-null    float64\n",
            " 3   AGE      506 non-null    float64\n",
            " 4   PTRATIO  506 non-null    float64\n",
            " 5   LSTAT    506 non-null    float64\n",
            " 6   PRICE    506 non-null    float64\n",
            "dtypes: float64(7)\n",
            "memory usage: 27.8 KB\n"
          ],
          "name": "stdout"
        }
      ]
    },
    {
      "cell_type": "code",
      "metadata": {
        "colab": {
          "base_uri": "https://localhost:8080/",
          "height": 286
        },
        "id": "aSLSvbUhTr-c",
        "outputId": "4087a3c9-b337-4b13-f5ba-eca57d8d99ea"
      },
      "source": [
        "sn.heatmap(df.corr().sort_values(by=['PRICE']), cmap=sn.diverging_palette(240,10,n=9), annot=True)"
      ],
      "execution_count": 9,
      "outputs": [
        {
          "output_type": "execute_result",
          "data": {
            "text/plain": [
              "<matplotlib.axes._subplots.AxesSubplot at 0x7f48b179b8d0>"
            ]
          },
          "metadata": {},
          "execution_count": 9
        },
        {
          "output_type": "display_data",
          "data": {
            "image/png": "[encoded data removed]",
            "text/plain": [
              "<Figure size 432x288 with 2 Axes>"
            ]
          },
          "metadata": {
            "needs_background": "light"
          }
        }
      ]
    },
    {
      "cell_type": "code",
      "metadata": {
        "colab": {
          "base_uri": "https://localhost:8080/",
          "height": 419
        },
        "id": "Z1z7mfbvUS54",
        "outputId": "2f13906c-9f7f-46ea-80ca-3b5065cda93f"
      },
      "source": [
        "n_df = df.loc[:,['PTRATIO', 'LSTAT', 'RM', 'PRICE']]\n",
        "features"
      ],
      "execution_count": 24,
      "outputs": [
        {
          "output_type": "execute_result",
          "data": {
            "text/html": [
              "<div>\n",
              "<style scoped>\n",
              "    .dataframe tbody tr th:only-of-type {\n",
              "        vertical-align: middle;\n",
              "    }\n",
              "\n",
              "    .dataframe tbody tr th {\n",
              "        vertical-align: top;\n",
              "    }\n",
              "\n",
              "    .dataframe thead th {\n",
              "        text-align: right;\n",
              "    }\n",
              "</style>\n",
              "<table border=\"1\" class=\"dataframe\">\n",
              "  <thead>\n",
              "    <tr style=\"text-align: right;\">\n",
              "      <th></th>\n",
              "      <th>PTRATIO</th>\n",
              "      <th>LSTAT</th>\n",
              "      <th>RM</th>\n",
              "      <th>PRICE</th>\n",
              "    </tr>\n",
              "  </thead>\n",
              "  <tbody>\n",
              "    <tr>\n",
              "      <th>0</th>\n",
              "      <td>15.3</td>\n",
              "      <td>4.98</td>\n",
              "      <td>6.575</td>\n",
              "      <td>24.0</td>\n",
              "    </tr>\n",
              "    <tr>\n",
              "      <th>1</th>\n",
              "      <td>17.8</td>\n",
              "      <td>9.14</td>\n",
              "      <td>6.421</td>\n",
              "      <td>21.6</td>\n",
              "    </tr>\n",
              "    <tr>\n",
              "      <th>2</th>\n",
              "      <td>17.8</td>\n",
              "      <td>4.03</td>\n",
              "      <td>7.185</td>\n",
              "      <td>34.7</td>\n",
              "    </tr>\n",
              "    <tr>\n",
              "      <th>3</th>\n",
              "      <td>18.7</td>\n",
              "      <td>2.94</td>\n",
              "      <td>6.998</td>\n",
              "      <td>33.4</td>\n",
              "    </tr>\n",
              "    <tr>\n",
              "      <th>4</th>\n",
              "      <td>18.7</td>\n",
              "      <td>5.33</td>\n",
              "      <td>7.147</td>\n",
              "      <td>36.2</td>\n",
              "    </tr>\n",
              "    <tr>\n",
              "      <th>...</th>\n",
              "      <td>...</td>\n",
              "      <td>...</td>\n",
              "      <td>...</td>\n",
              "      <td>...</td>\n",
              "    </tr>\n",
              "    <tr>\n",
              "      <th>501</th>\n",
              "      <td>21.0</td>\n",
              "      <td>9.67</td>\n",
              "      <td>6.593</td>\n",
              "      <td>22.4</td>\n",
              "    </tr>\n",
              "    <tr>\n",
              "      <th>502</th>\n",
              "      <td>21.0</td>\n",
              "      <td>9.08</td>\n",
              "      <td>6.120</td>\n",
              "      <td>20.6</td>\n",
              "    </tr>\n",
              "    <tr>\n",
              "      <th>503</th>\n",
              "      <td>21.0</td>\n",
              "      <td>5.64</td>\n",
              "      <td>6.976</td>\n",
              "      <td>23.9</td>\n",
              "    </tr>\n",
              "    <tr>\n",
              "      <th>504</th>\n",
              "      <td>21.0</td>\n",
              "      <td>6.48</td>\n",
              "      <td>6.794</td>\n",
              "      <td>22.0</td>\n",
              "    </tr>\n",
              "    <tr>\n",
              "      <th>505</th>\n",
              "      <td>21.0</td>\n",
              "      <td>7.88</td>\n",
              "      <td>6.030</td>\n",
              "      <td>11.9</td>\n",
              "    </tr>\n",
              "  </tbody>\n",
              "</table>\n",
              "<p>506 rows × 4 columns</p>\n",
              "</div>"
            ],
            "text/plain": [
              "     PTRATIO  LSTAT     RM  PRICE\n",
              "0       15.3   4.98  6.575   24.0\n",
              "1       17.8   9.14  6.421   21.6\n",
              "2       17.8   4.03  7.185   34.7\n",
              "3       18.7   2.94  6.998   33.4\n",
              "4       18.7   5.33  7.147   36.2\n",
              "..       ...    ...    ...    ...\n",
              "501     21.0   9.67  6.593   22.4\n",
              "502     21.0   9.08  6.120   20.6\n",
              "503     21.0   5.64  6.976   23.9\n",
              "504     21.0   6.48  6.794   22.0\n",
              "505     21.0   7.88  6.030   11.9\n",
              "\n",
              "[506 rows x 4 columns]"
            ]
          },
          "metadata": {},
          "execution_count": 24
        }
      ]
    },
    {
      "cell_type": "code",
      "metadata": {
        "colab": {
          "base_uri": "https://localhost:8080/"
        },
        "id": "RscwO_xbV4d8",
        "outputId": "7c4866ff-5a37-485e-df9c-f81e7ffac324"
      },
      "source": [
        "df.shape"
      ],
      "execution_count": 25,
      "outputs": [
        {
          "output_type": "execute_result",
          "data": {
            "text/plain": [
              "(506, 7)"
            ]
          },
          "metadata": {},
          "execution_count": 25
        }
      ]
    },
    {
      "cell_type": "code",
      "metadata": {
        "colab": {
          "base_uri": "https://localhost:8080/"
        },
        "id": "cO56NGpMWvG3",
        "outputId": "39a363b3-2252-4b40-8b2c-df7e0876d434"
      },
      "source": [
        "n_df.shape"
      ],
      "execution_count": 26,
      "outputs": [
        {
          "output_type": "execute_result",
          "data": {
            "text/plain": [
              "(506, 4)"
            ]
          },
          "metadata": {},
          "execution_count": 26
        }
      ]
    },
    {
      "cell_type": "code",
      "metadata": {
        "colab": {
          "base_uri": "https://localhost:8080/"
        },
        "id": "LyuQM1-OW1Y1",
        "outputId": "0609de3e-6bee-4c8f-c6a7-ca525cdfd2d9"
      },
      "source": [
        "n_df.isna().sum()"
      ],
      "execution_count": 27,
      "outputs": [
        {
          "output_type": "execute_result",
          "data": {
            "text/plain": [
              "PTRATIO    0\n",
              "LSTAT      0\n",
              "RM         0\n",
              "PRICE      0\n",
              "dtype: int64"
            ]
          },
          "metadata": {},
          "execution_count": 27
        }
      ]
    },
    {
      "cell_type": "code",
      "metadata": {
        "id": "85oLlWZJW76v"
      },
      "source": [
        "y = n_df.loc[:, 'PRICE']"
      ],
      "execution_count": 29,
      "outputs": []
    },
    {
      "cell_type": "code",
      "metadata": {
        "id": "jeRVP2xvYl9r"
      },
      "source": [
        "X = n_df.drop(columns='PRICE')"
      ],
      "execution_count": 32,
      "outputs": []
    },
    {
      "cell_type": "code",
      "metadata": {
        "colab": {
          "base_uri": "https://localhost:8080/",
          "height": 419
        },
        "id": "NqDxnnyaYuaO",
        "outputId": "d91aa251-4e47-4c7f-91f2-9f834f7bc376"
      },
      "source": [
        "X"
      ],
      "execution_count": 33,
      "outputs": [
        {
          "output_type": "execute_result",
          "data": {
            "text/html": [
              "<div>\n",
              "<style scoped>\n",
              "    .dataframe tbody tr th:only-of-type {\n",
              "        vertical-align: middle;\n",
              "    }\n",
              "\n",
              "    .dataframe tbody tr th {\n",
              "        vertical-align: top;\n",
              "    }\n",
              "\n",
              "    .dataframe thead th {\n",
              "        text-align: right;\n",
              "    }\n",
              "</style>\n",
              "<table border=\"1\" class=\"dataframe\">\n",
              "  <thead>\n",
              "    <tr style=\"text-align: right;\">\n",
              "      <th></th>\n",
              "      <th>PTRATIO</th>\n",
              "      <th>LSTAT</th>\n",
              "      <th>RM</th>\n",
              "    </tr>\n",
              "  </thead>\n",
              "  <tbody>\n",
              "    <tr>\n",
              "      <th>0</th>\n",
              "      <td>15.3</td>\n",
              "      <td>4.98</td>\n",
              "      <td>6.575</td>\n",
              "    </tr>\n",
              "    <tr>\n",
              "      <th>1</th>\n",
              "      <td>17.8</td>\n",
              "      <td>9.14</td>\n",
              "      <td>6.421</td>\n",
              "    </tr>\n",
              "    <tr>\n",
              "      <th>2</th>\n",
              "      <td>17.8</td>\n",
              "      <td>4.03</td>\n",
              "      <td>7.185</td>\n",
              "    </tr>\n",
              "    <tr>\n",
              "      <th>3</th>\n",
              "      <td>18.7</td>\n",
              "      <td>2.94</td>\n",
              "      <td>6.998</td>\n",
              "    </tr>\n",
              "    <tr>\n",
              "      <th>4</th>\n",
              "      <td>18.7</td>\n",
              "      <td>5.33</td>\n",
              "      <td>7.147</td>\n",
              "    </tr>\n",
              "    <tr>\n",
              "      <th>...</th>\n",
              "      <td>...</td>\n",
              "      <td>...</td>\n",
              "      <td>...</td>\n",
              "    </tr>\n",
              "    <tr>\n",
              "      <th>501</th>\n",
              "      <td>21.0</td>\n",
              "      <td>9.67</td>\n",
              "      <td>6.593</td>\n",
              "    </tr>\n",
              "    <tr>\n",
              "      <th>502</th>\n",
              "      <td>21.0</td>\n",
              "      <td>9.08</td>\n",
              "      <td>6.120</td>\n",
              "    </tr>\n",
              "    <tr>\n",
              "      <th>503</th>\n",
              "      <td>21.0</td>\n",
              "      <td>5.64</td>\n",
              "      <td>6.976</td>\n",
              "    </tr>\n",
              "    <tr>\n",
              "      <th>504</th>\n",
              "      <td>21.0</td>\n",
              "      <td>6.48</td>\n",
              "      <td>6.794</td>\n",
              "    </tr>\n",
              "    <tr>\n",
              "      <th>505</th>\n",
              "      <td>21.0</td>\n",
              "      <td>7.88</td>\n",
              "      <td>6.030</td>\n",
              "    </tr>\n",
              "  </tbody>\n",
              "</table>\n",
              "<p>506 rows × 3 columns</p>\n",
              "</div>"
            ],
            "text/plain": [
              "     PTRATIO  LSTAT     RM\n",
              "0       15.3   4.98  6.575\n",
              "1       17.8   9.14  6.421\n",
              "2       17.8   4.03  7.185\n",
              "3       18.7   2.94  6.998\n",
              "4       18.7   5.33  7.147\n",
              "..       ...    ...    ...\n",
              "501     21.0   9.67  6.593\n",
              "502     21.0   9.08  6.120\n",
              "503     21.0   5.64  6.976\n",
              "504     21.0   6.48  6.794\n",
              "505     21.0   7.88  6.030\n",
              "\n",
              "[506 rows x 3 columns]"
            ]
          },
          "metadata": {},
          "execution_count": 33
        }
      ]
    },
    {
      "cell_type": "code",
      "metadata": {
        "id": "tPYBABQcY29k"
      },
      "source": [
        "X_train, X_test, y_train, y_test = train_test_split(X,y, random_state=42)"
      ],
      "execution_count": 34,
      "outputs": []
    },
    {
      "cell_type": "code",
      "metadata": {
        "id": "TM_8rRYEZrHs"
      },
      "source": [
        "reg = LinearRegression()"
      ],
      "execution_count": 35,
      "outputs": []
    },
    {
      "cell_type": "code",
      "metadata": {
        "colab": {
          "base_uri": "https://localhost:8080/"
        },
        "id": "I4RiQOHJZ5SL",
        "outputId": "31121373-3e97-4325-ceb8-279401963799"
      },
      "source": [
        "reg.fit(X,y)"
      ],
      "execution_count": 36,
      "outputs": [
        {
          "output_type": "execute_result",
          "data": {
            "text/plain": [
              "LinearRegression(copy_X=True, fit_intercept=True, n_jobs=None, normalize=False)"
            ]
          },
          "metadata": {},
          "execution_count": 36
        }
      ]
    },
    {
      "cell_type": "code",
      "metadata": {
        "id": "VQ1V0VvEZ9LN"
      },
      "source": [
        "preds = reg.predict(X)"
      ],
      "execution_count": 37,
      "outputs": []
    },
    {
      "cell_type": "code",
      "metadata": {
        "colab": {
          "base_uri": "https://localhost:8080/"
        },
        "id": "zSK6x4cqaBju",
        "outputId": "206acf65-c8f6-42d0-c665-9730fde43d11"
      },
      "source": [
        "reg.score(X,y)"
      ],
      "execution_count": 38,
      "outputs": [
        {
          "output_type": "execute_result",
          "data": {
            "text/plain": [
              "0.6786241601613111"
            ]
          },
          "metadata": {},
          "execution_count": 38
        }
      ]
    },
    {
      "cell_type": "code",
      "metadata": {
        "colab": {
          "base_uri": "https://localhost:8080/"
        },
        "id": "utTC-smtaGnO",
        "outputId": "d186b6d8-7181-4bb1-e769-b50d80531ba0"
      },
      "source": [
        "r2_score(y, preds)"
      ],
      "execution_count": 39,
      "outputs": [
        {
          "output_type": "execute_result",
          "data": {
            "text/plain": [
              "0.6786241601613111"
            ]
          },
          "metadata": {},
          "execution_count": 39
        }
      ]
    },
    {
      "cell_type": "code",
      "metadata": {
        "colab": {
          "base_uri": "https://localhost:8080/"
        },
        "id": "6XdlPxYzaTHt",
        "outputId": "12879568-7d74-4844-d235-7c64a1218430"
      },
      "source": [
        "train_preds = reg.predict(X_train)\n",
        "train_preds"
      ],
      "execution_count": 42,
      "outputs": [
        {
          "output_type": "execute_result",
          "data": {
            "text/plain": [
              "array([31.55198346, 24.07583816, 37.85994783, 10.54794541, 27.23700741,\n",
              "       18.98322765, 19.73603521, 12.10892588, 21.89927303, 22.25938498,\n",
              "       33.03167761, 31.36317064, 16.4508588 , 17.68091986, 30.60088931,\n",
              "       23.85792912, 11.94510636,  9.0852694 , 23.78940424, 23.91480291,\n",
              "       17.53065543, 13.90258272, 39.12212644, 19.55307683, 18.5919267 ,\n",
              "       27.21764876, 23.00294929, 21.7256635 , 22.05847972, 16.15806328,\n",
              "       24.20181278, 31.08040676, 12.28755841, 22.26439029, 18.63566401,\n",
              "       19.65456891, 25.18696828, 25.5980893 , 22.30762508, 41.00885176,\n",
              "       17.38473787, 16.80163755, 21.33922781, 19.24174572, 21.3317895 ,\n",
              "       22.09771508, 33.61146945, 20.62115083, 19.72614838, 24.26432317,\n",
              "       29.62733827, 35.19073788, 26.35743614, 10.27641023,  2.03748727,\n",
              "       10.6480918 , 17.75253069, 30.62994623, 28.2069968 , 20.26880064,\n",
              "        1.82285733, 27.81023884, 22.88647345, 19.8784895 , 27.07139175,\n",
              "       17.20935179, 16.99977599, 11.49310282, 31.87651945, 27.37386329,\n",
              "       18.34998871, 20.12635813, 16.66882221, 26.05036831, 20.58649478,\n",
              "       27.75608924, 30.15278902, 24.4357232 , 24.39442348, 26.82465932,\n",
              "       40.80374546, 31.63245521, 32.83885922, 25.61099274, 25.66582549,\n",
              "       18.86280043, 36.05898014, 20.09585204, 31.84368541, 27.95258208,\n",
              "       19.8261561 , 21.05477135, 12.61490407, 34.83658612, 36.27237449,\n",
              "       32.89236544,  4.60158927, 18.36317504, 20.54750928, 37.41091252,\n",
              "       16.05461456, 20.34407144, 23.09949376, 27.07067312, 15.02882477,\n",
              "       21.72272866, 26.51175587, 30.70562246, 29.68187466, 24.45929468,\n",
              "       36.38705969, 27.29653027, 33.69786173, 28.59932282, 24.46643676,\n",
              "       28.03534257, 14.32627075, 19.31082547, 24.33532603, 21.52154171,\n",
              "        1.97546635, 19.14107999, 26.64251712, 21.84384818, 18.43539772,\n",
              "       24.48089778, 13.81002267, 33.87513759, 29.02139835, 35.8998256 ,\n",
              "       18.29913297, 20.77771431, 17.61191086, 10.24303155, 15.42525939,\n",
              "       27.32298349, 12.70303322,  5.8854342 , 23.15836829, 14.46870539,\n",
              "       28.73177992, 31.43110873, 35.84173516, 30.55145458, 17.45425896,\n",
              "       28.38710137, 37.46952764, 23.13276172, 18.64866437, 27.90694835,\n",
              "       19.05900831, 19.98083876,  9.05374279, 22.36558594, 19.35117823,\n",
              "       26.20961666, 27.90987162, 17.20715318, 26.07607955, 13.80230488,\n",
              "       15.08264784, 30.9378391 , 21.49534753, 21.38919314, 21.81058033,\n",
              "       20.86817072, 20.76243579, 24.86193592, 29.75416439,  7.11270969,\n",
              "       19.43096386, 30.63598754, 16.66938095, 28.35335665, 25.03805826,\n",
              "       19.88290144, 16.88366626, 37.3525831 , 25.78822904, 24.66294594,\n",
              "       16.00290846, 34.00785698, 35.12493376, 38.6052434 , 19.75600774,\n",
              "       19.07898391, 23.64925927, 37.32973302,  5.105383  , 21.40247324,\n",
              "       14.71274499, 28.75910695, 12.20777901, 18.72425208, -3.26013421,\n",
              "       17.70040425, 16.53033458,  9.58741718, 23.85052316, 16.23589509,\n",
              "       29.31414354, 39.87805892, 27.55209395, 25.41050363, 34.81597612,\n",
              "       12.44309705, 30.05523625, 22.02837525, 21.95215185, 21.03048407,\n",
              "       23.16243191, 13.94648075, 17.06989809, 28.19644759, 17.93464368,\n",
              "       27.92626144, 25.15064401, 27.75282661, 16.50078556, 11.269272  ,\n",
              "       30.1360094 , 29.70903803, 13.39461118, 16.36225332, 23.54751647,\n",
              "       37.49860343, 27.12668935, 15.64323204, 30.38658889, 35.6482549 ,\n",
              "       23.57699571, 24.10383721, 36.88677163, 19.3615332 , 24.67794314,\n",
              "       17.1513967 , 24.55734267, 35.08335099, 27.94699257, 23.75500439,\n",
              "       18.91400438, 18.38521913, 10.04395685, 39.67793154, 20.47886028,\n",
              "       32.41782119, 19.67852742, 16.44588601, 19.05622551, 22.71773545,\n",
              "       33.5086788 , 27.28627712, 39.01693723, 14.80582055, 13.09171654,\n",
              "       25.5351825 , 17.74316055, 19.07437589, 27.6415453 , 12.73231976,\n",
              "       25.30968144, 17.12326379, 28.73018658, 32.34701447, 20.68121756,\n",
              "       19.46184536, 32.11903019, 15.41205254, 17.69121073, 18.15299355,\n",
              "       22.16496527, 32.68513532, 12.0918754 , 25.99440688, 20.34665429,\n",
              "       26.85926906, 17.04154057, 18.31067622, 30.24431002, 20.29086842,\n",
              "       27.80780832, 19.68478366, 20.24349334, 32.33017175, 26.11756108,\n",
              "       20.18181633, 28.46099754, 37.71225355, 25.69822293, 27.75389039,\n",
              "       16.78873936, 32.89061064, 22.70700766, 33.41676914, 16.11709836,\n",
              "       25.19414545, 12.18248618, 25.76746391, 18.22637691, 14.15988325,\n",
              "       17.93931375, 17.57688707, 28.23376756, 21.64048893, 14.91741623,\n",
              "       18.34375571, 33.11939355, 19.46853799, 14.1712704 , 26.23271453,\n",
              "       21.22192284, 20.39670038, 29.31174431, 22.20415513, 34.37421554,\n",
              "       23.54821721, 21.16106206, 20.62652756, 30.49487329,  4.05155665,\n",
              "       32.22129303, 38.57258156, 23.63348771, 20.48782762, 14.93311525,\n",
              "       31.24665709, 18.80815034, 21.76549831, 29.01653166, 17.05293993,\n",
              "       17.59826836, 22.16564116, 20.1798865 , 24.06076157, 15.21971937,\n",
              "       33.78139549, 21.46431838, 23.29157197, 31.22405151, 27.32037444,\n",
              "       24.05655185,  8.6686022 , 30.58937388, 23.63214502, 30.18562013,\n",
              "       18.04835111, 25.21817919, 18.81924704, 29.96193956, 31.54053412,\n",
              "       18.27048349, 32.16778173,  5.97705897, 26.43544194, 11.56165264,\n",
              "       28.31608833, 42.84229706, 28.80563663, 17.89306896, 20.79163012,\n",
              "       21.69324519, 20.11999063, 31.76099002, 21.21697943, 24.16159582,\n",
              "       18.93777694, 25.3829329 ,  8.79627205, 16.8358338 , 19.74123088,\n",
              "       21.74409732, 12.15347694, 31.41579444, 21.96422249, 14.79711259,\n",
              "       20.26450308, 29.27952996, 16.39332297, 21.95798678])"
            ]
          },
          "metadata": {},
          "execution_count": 42
        }
      ]
    },
    {
      "cell_type": "code",
      "metadata": {
        "colab": {
          "base_uri": "https://localhost:8080/"
        },
        "id": "3gDGc-H7buXf",
        "outputId": "ad88cf9a-2de0-424f-f1f0-68187241e1cd"
      },
      "source": [
        "test_preds = reg.predict(X_test)\n",
        "test_preds"
      ],
      "execution_count": 44,
      "outputs": [
        {
          "output_type": "execute_result",
          "data": {
            "text/plain": [
              "array([26.91893445, 30.68313519, 16.54282287, 24.92689907, 18.32503734,\n",
              "       22.67041374, 17.66481769, 12.89917682, 20.53393375, 19.71770497,\n",
              "       19.92777371, 21.75283875, -0.9736712 , 22.24662086, 19.38597339,\n",
              "       24.61689976, 17.28412644,  4.29307993, 39.02538375, 17.32755731,\n",
              "       25.66369918, 27.34407019, 11.89572915, 23.26274713, 17.90878478,\n",
              "       13.89915017, 22.48275059, 19.44778358, 18.29249657, 18.79712719,\n",
              "       19.87721703, 25.22404345, 25.10272081, 18.15150303, 14.68169055,\n",
              "       21.6352163 , 32.13917258, 20.66382567, 20.2545132 , 24.58462735,\n",
              "       12.94738509, 28.0622377 , 39.51558142, 18.75078352, 25.93809811,\n",
              "       15.77952042, 14.27171827, 25.83016042, 18.29840219, 31.16835679,\n",
              "       23.96543164, 33.53821046, 16.0514508 , 25.34832989, 38.39100676,\n",
              "       22.21814871, 18.36166238, 29.7734286 , 24.69699793, 15.54371209,\n",
              "       25.33299955, 31.88907883, 29.80758768, 16.97366602, 28.10262991,\n",
              "       12.18308817, 19.19649144, 25.49703152, 28.8438893 , 15.88064532,\n",
              "       19.94235286, 25.81983124, 12.59653278, 21.70979633, 23.0148399 ,\n",
              "        6.8975703 , 19.91124693, 38.16651094, 17.26628207, 10.5998948 ,\n",
              "       22.52353547, 10.03396517, 24.54667245,  7.8222057 , 21.93663417,\n",
              "       28.14022452, 20.63530224, 25.79192397, 26.12232716, 19.63567512,\n",
              "       24.51899567,  8.48340505, 20.39000849, 20.45670213, 11.77467337,\n",
              "       21.24957634, 22.38506427,  1.01092252, 18.61955794, 17.69195642,\n",
              "       21.15558006, 24.43459293,  9.47262889, 20.52170945, 25.5931655 ,\n",
              "       14.00677544, 18.43178543, 26.45884862, 22.44594857, 27.98822436,\n",
              "       12.42112509, 19.39586369, 24.39913365, 24.33943255, 31.07981509,\n",
              "       19.12395682, 32.73964265, 14.8632678 , 19.59935946, 28.74487605,\n",
              "       18.89748894, 26.7081928 , 14.87424517, 23.29800094, 26.44061852,\n",
              "       23.19970355, 27.69297646])"
            ]
          },
          "metadata": {},
          "execution_count": 44
        }
      ]
    },
    {
      "cell_type": "code",
      "metadata": {
        "colab": {
          "base_uri": "https://localhost:8080/"
        },
        "id": "Pa10oC-7dYhk",
        "outputId": "d1ef48ab-d9f7-4f17-81f6-86262c50f62e"
      },
      "source": [
        "np.sqrt(mean_squared_error(y_train, train_preds))"
      ],
      "execution_count": 50,
      "outputs": [
        {
          "output_type": "execute_result",
          "data": {
            "text/plain": [
              "5.26747648584123"
            ]
          },
          "metadata": {},
          "execution_count": 50
        }
      ]
    },
    {
      "cell_type": "code",
      "metadata": {
        "colab": {
          "base_uri": "https://localhost:8080/"
        },
        "id": "GGI9PsTHfVjq",
        "outputId": "63b30ddc-bceb-473c-9c75-966b0d66be8c"
      },
      "source": [
        "np.sqrt(mean_squared_error(y_test, test_preds))"
      ],
      "execution_count": 51,
      "outputs": [
        {
          "output_type": "execute_result",
          "data": {
            "text/plain": [
              "5.029154670871049"
            ]
          },
          "metadata": {},
          "execution_count": 51
        }
      ]
    },
    {
      "cell_type": "code",
      "metadata": {
        "colab": {
          "base_uri": "https://localhost:8080/"
        },
        "id": "VR5nzC3xfkT3",
        "outputId": "1823894b-f80c-466f-cad0-48dc932d09e1"
      },
      "source": [
        "mean_squared_error(y_train, train_preds)"
      ],
      "execution_count": 52,
      "outputs": [
        {
          "output_type": "execute_result",
          "data": {
            "text/plain": [
              "27.746308528890275"
            ]
          },
          "metadata": {},
          "execution_count": 52
        }
      ]
    },
    {
      "cell_type": "code",
      "metadata": {
        "colab": {
          "base_uri": "https://localhost:8080/"
        },
        "id": "A3gaoOSVfq2s",
        "outputId": "c9009da7-c5b0-4686-d9b1-776af102c89b"
      },
      "source": [
        "mean_squared_error(y_test, test_preds)"
      ],
      "execution_count": 53,
      "outputs": [
        {
          "output_type": "execute_result",
          "data": {
            "text/plain": [
              "25.29239670354409"
            ]
          },
          "metadata": {},
          "execution_count": 53
        }
      ]
    },
    {
      "cell_type": "code",
      "metadata": {
        "colab": {
          "base_uri": "https://localhost:8080/"
        },
        "id": "s5ar93Tib7EW",
        "outputId": "b873a774-e03c-4edc-d0ac-4e043bb66ce9"
      },
      "source": [
        "mean_absolute_error(y_train, train_preds)"
      ],
      "execution_count": 47,
      "outputs": [
        {
          "output_type": "execute_result",
          "data": {
            "text/plain": [
              "3.7317077907708147"
            ]
          },
          "metadata": {},
          "execution_count": 47
        }
      ]
    },
    {
      "cell_type": "code",
      "metadata": {
        "colab": {
          "base_uri": "https://localhost:8080/"
        },
        "id": "XzJ9dlw5cGO_",
        "outputId": "8e38ab17-a04d-406f-fdd7-3e7aabaee504"
      },
      "source": [
        "mean_absolute_error(y_test, test_preds)"
      ],
      "execution_count": 48,
      "outputs": [
        {
          "output_type": "execute_result",
          "data": {
            "text/plain": [
              "3.3734673850270718"
            ]
          },
          "metadata": {},
          "execution_count": 48
        }
      ]
    },
    {
      "cell_type": "code",
      "metadata": {
        "id": "FKnfOU-7facX"
      },
      "source": [
        ""
      ],
      "execution_count": null,
      "outputs": []
    }
  ]
}